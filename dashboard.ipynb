{
 "cells": [
  {
   "cell_type": "code",
   "execution_count": 14,
   "metadata": {},
   "outputs": [
    {
     "data": {
      "text/html": [
       "\n",
       "        <iframe\n",
       "            width=\"100%\"\n",
       "            height=\"650\"\n",
       "            src=\"http://127.0.0.1:8050/\"\n",
       "            frameborder=\"0\"\n",
       "            allowfullscreen\n",
       "            \n",
       "        ></iframe>\n",
       "        "
      ],
      "text/plain": [
       "<IPython.lib.display.IFrame at 0x10b129090>"
      ]
     },
     "metadata": {},
     "output_type": "display_data"
    }
   ],
   "source": [
    "import dash\n",
    "import dash_core_components as dcc\n",
    "import dash_html_components as html\n",
    "\n",
    "# Create a Dash app\n",
    "app = dash.Dash(__name__)\n",
    "\n",
    "# Define the layout of the dashboard\n",
    "app.layout = html.Div(children=[\n",
    "    html.H1(\"My Dashboard\"),\n",
    "    dcc.Graph(\n",
    "        id=\"example-graph\",\n",
    "        figure={\n",
    "            \"data\": [\n",
    "                {\"x\": [1, 2, 3], \"y\": [4, 1, 2], \"type\": \"bar\", \"name\": \"Bar chart\"},\n",
    "                {\"x\": [1, 2, 3], \"y\": [2, 4, 5], \"type\": \"line\", \"name\": \"Line chart\"},\n",
    "            ],\n",
    "            \"layout\": {\n",
    "                \"title\": \"Sample Graphs\",\n",
    "            }\n",
    "        }\n",
    "    )\n",
    "])\n",
    "\n",
    "if __name__ == \"__main__\":\n",
    "    # Run the app and export to HTML\n",
    "    app.run_server(debug=False, dev_tools_ui=False, dev_tools_props_check=False)\n"
   ]
  },
  {
   "cell_type": "code",
   "execution_count": 12,
   "metadata": {},
   "outputs": [
    {
     "data": {
      "text/html": [
       "\n",
       "        <iframe\n",
       "            width=\"100%\"\n",
       "            height=\"650\"\n",
       "            src=\"http://127.0.0.1:8050/\"\n",
       "            frameborder=\"0\"\n",
       "            allowfullscreen\n",
       "            \n",
       "        ></iframe>\n",
       "        "
      ],
      "text/plain": [
       "<IPython.lib.display.IFrame at 0x10a507e50>"
      ]
     },
     "metadata": {},
     "output_type": "display_data"
    },
    {
     "ename": "AttributeError",
     "evalue": "'Div' object has no attribute 'html'",
     "output_type": "error",
     "traceback": [
      "\u001b[0;31m---------------------------------------------------------------------------\u001b[0m",
      "\u001b[0;31mAttributeError\u001b[0m                            Traceback (most recent call last)",
      "Cell \u001b[0;32mIn[12], line 43\u001b[0m\n\u001b[1;32m     41\u001b[0m \u001b[39m# Export the app to an HTML file\u001b[39;00m\n\u001b[1;32m     42\u001b[0m \u001b[39mwith\u001b[39;00m \u001b[39mopen\u001b[39m(\u001b[39m\"\u001b[39m\u001b[39mdashboard.html\u001b[39m\u001b[39m\"\u001b[39m, \u001b[39m\"\u001b[39m\u001b[39mw\u001b[39m\u001b[39m\"\u001b[39m) \u001b[39mas\u001b[39;00m f:\n\u001b[0;32m---> 43\u001b[0m     f\u001b[39m.\u001b[39mwrite(app\u001b[39m.\u001b[39;49mlayout\u001b[39m.\u001b[39;49mhtml)\n",
      "\u001b[0;31mAttributeError\u001b[0m: 'Div' object has no attribute 'html'"
     ]
    }
   ],
   "source": [
    "import dash\n",
    "import dash_core_components as dcc\n",
    "import dash_html_components as html\n",
    "\n",
    "# Create a Dash app\n",
    "app = dash.Dash(__name__)\n",
    "\n",
    "# Define the layout of the dashboard\n",
    "app.layout = html.Div(children=[\n",
    "    html.H1(\"My Dashboard\"),\n",
    "    dcc.Graph(\n",
    "        id=\"example-graph\",\n",
    "        figure={\n",
    "            \"data\": [\n",
    "                {\"x\": [1, 2, 3], \"y\": [4, 1, 2], \"type\": \"bar\", \"name\": \"Bar chart\"},\n",
    "                {\"x\": [1, 2, 3], \"y\": [2, 4, 5], \"type\": \"line\", \"name\": \"Line chart\"},\n",
    "            ],\n",
    "            \"layout\": {\n",
    "                \"title\": \"Sample Graphs\",\n",
    "            }\n",
    "        }\n",
    "    ),\n",
    "    dcc.Graph(\n",
    "        id=\"scatter-plot\",\n",
    "        figure={\n",
    "            \"data\": [\n",
    "                {\"x\": [1, 2, 3], \"y\": [10, 5, 8], \"mode\": \"markers\", \"name\": \"Scatter plot\"},\n",
    "            ],\n",
    "            \"layout\": {\n",
    "                \"title\": \"Sample Scatter Plot\",\n",
    "            }\n",
    "        }\n",
    "    )\n",
    "])\n",
    "\n",
    "# Run the app\n",
    "if __name__ == \"__main__\":\n",
    "    # Run the app and export to HTML\n",
    "    app.run_server(debug=False, dev_tools_ui=False, dev_tools_props_check=False)\n",
    "\n",
    "    # Export the app to an HTML file\n",
    "    with open(\"dashboard.html\", \"w\") as f:\n",
    "        f.write(app.layout.html)\n"
   ]
  },
  {
   "cell_type": "code",
   "execution_count": 20,
   "metadata": {},
   "outputs": [
    {
     "name": "stderr",
     "output_type": "stream",
     "text": [
      "2023-07-30 08:59:56.678 \n",
      "  \u001b[33m\u001b[1mWarning:\u001b[0m to view this Streamlit app on a browser, run it with the following\n",
      "  command:\n",
      "\n",
      "    streamlit run /Users/Dhanes/miniconda3/lib/python3.11/site-packages/ipykernel_launcher.py [ARGUMENTS]\n"
     ]
    },
    {
     "data": {
      "text/plain": [
       "DeltaGenerator()"
      ]
     },
     "execution_count": 20,
     "metadata": {},
     "output_type": "execute_result"
    }
   ],
   "source": [
    "import streamlit as st\n",
    "import pandas as pd\n",
    "import numpy as np\n",
    "import plotly.express as px\n",
    "\n",
    "# Set the title of the app\n",
    "st.title('Simple Streamlit Chart App')\n",
    "\n",
    "# Create a sidebar to select the chart type\n",
    "chart_type = st.sidebar.selectbox('Select Chart Type', ['Line Chart', 'Bar Chart'])\n",
    "\n",
    "# Generate random data for the chart\n",
    "np.random.seed(42)\n",
    "data = {\n",
    "    'x': np.arange(10),\n",
    "    'y': np.random.randint(1, 100, 10)\n",
    "}\n",
    "df = pd.DataFrame(data)\n",
    "\n",
    "# Create the chart based on the selected type\n",
    "if chart_type == 'Line Chart':\n",
    "    fig = px.line(df, x='x', y='y', title='Line Chart')\n",
    "else:\n",
    "    fig = px.bar(df, x='x', y='y', title='Bar Chart')\n",
    "\n",
    "# Display the chart\n",
    "st.plotly_chart(fig)\n"
   ]
  },
  {
   "cell_type": "code",
   "execution_count": null,
   "metadata": {},
   "outputs": [],
   "source": []
  }
 ],
 "metadata": {
  "kernelspec": {
   "display_name": "base",
   "language": "python",
   "name": "python3"
  },
  "language_info": {
   "codemirror_mode": {
    "name": "ipython",
    "version": 3
   },
   "file_extension": ".py",
   "mimetype": "text/x-python",
   "name": "python",
   "nbconvert_exporter": "python",
   "pygments_lexer": "ipython3",
   "version": "3.11.4"
  },
  "orig_nbformat": 4
 },
 "nbformat": 4,
 "nbformat_minor": 2
}
